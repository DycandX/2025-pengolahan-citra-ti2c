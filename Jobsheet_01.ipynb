{
  "nbformat": 4,
  "nbformat_minor": 0,
  "metadata": {
    "colab": {
      "provenance": [],
      "authorship_tag": "ABX9TyP18UfsRY7Y9eUw79K3/DYs",
      "include_colab_link": true
    },
    "kernelspec": {
      "name": "python3",
      "display_name": "Python 3"
    },
    "language_info": {
      "name": "python"
    }
  },
  "cells": [
    {
      "cell_type": "markdown",
      "metadata": {
        "id": "view-in-github",
        "colab_type": "text"
      },
      "source": [
        "<a href=\"https://colab.research.google.com/github/DycandX/2025-pengolahan-citra-ti2c/blob/main/Jobsheet_01.ipynb\" target=\"_parent\"><img src=\"https://colab.research.google.com/assets/colab-badge.svg\" alt=\"Open In Colab\"/></a>"
      ]
    },
    {
      "cell_type": "markdown",
      "source": [
        "# Jobsheet 1. Dasar Berkas Gambar (Citra)"
      ],
      "metadata": {
        "id": "HWlMLVltxflN"
      }
    },
    {
      "cell_type": "markdown",
      "source": [
        "## Praktikum 1. Mendefinisikan Istilah bit, byte, kilobyte, megabyte dll pada citra"
      ],
      "metadata": {
        "id": "vxPJX_o4xrTN"
      }
    },
    {
      "cell_type": "code",
      "execution_count": 2,
      "metadata": {
        "id": "dFMN7vwmwJEj"
      },
      "outputs": [],
      "source": [
        "import numpy as np\n",
        "import matploptlib.pylot"
      ]
    },
    {
      "cell_type": "code",
      "source": [],
      "metadata": {
        "id": "qXtlRuekx_29"
      },
      "execution_count": null,
      "outputs": []
    }
  ]
}